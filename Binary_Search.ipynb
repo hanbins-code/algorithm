{
  "nbformat": 4,
  "nbformat_minor": 0,
  "metadata": {
    "colab": {
      "name": "Binary Search.ipynb",
      "provenance": [],
      "collapsed_sections": []
    },
    "kernelspec": {
      "name": "python3",
      "display_name": "Python 3"
    }
  },
  "cells": [
    {
      "cell_type": "code",
      "metadata": {
        "colab": {
          "base_uri": "https://localhost:8080/"
        },
        "id": "n8yV62kVz0AW",
        "outputId": "b7045154-d8d9-4ff3-c2de-0622fdf12d7a"
      },
      "source": [
        "def BINARY_SEARCH(C, m):\r\n",
        "# 참조 리스트의 절반을 나눈다.\r\n",
        "    # 리스트 요소 갯수가 홀수일때 소수가 나오는 것을 대비하기 위하여,\r\n",
        "    # 정수형으로 바꾸어 홀수가 나오도록 한다.\r\n",
        "    # 슬라이싱을 이용하여 리스트 A와 B를 저장한다.\r\n",
        "    A = C[0 : int(len(C) / 2)]\r\n",
        "    B = C[int(len(C) / 2) :]\r\n",
        "    # 참조 리스트의 어디 절반에 위치하는지 파악한다.\r\n",
        "      # 리스트 A에 있는지, B에 있는지...\r\n",
        "        # 만약 두 리스트 모두에 없으면, -1을 반환한다.\r\n",
        "        # 어떤 리스트에 존재하고, 그 리스트의 요소 개수가 1이면, 그 숫자를 반환한다.\r\n",
        "        # 어떤 리스트에 존재하고, 그 리스트의 요소 개수가 1보다 크면, 다시 이진탐색을 실시한다.\r\n",
        "    # 그 리스트를 바탕으로 값을 찾는다.    \r\n",
        "    if (m in A) and (len(A) == 1):\r\n",
        "        return list_n.index(A[0]) + 1\r\n",
        "    elif (m in B) and (len(B) == 1):\r\n",
        "        return list_n.index(B[0]) + 1\r\n",
        "    elif (m in A) and (len(A) > 1):\r\n",
        "        return BINARY_SEARCH(A, m)\r\n",
        "    elif (m in B) and (len(B) > 1):\r\n",
        "        return BINARY_SEARCH(B, m)\r\n",
        "    else:\r\n",
        "        return -1\r\n",
        "\r\n",
        "def SEARCH_PLATFORM(list_n, list_m): #list_m의 요소값을 모두 검색하여 리스트로 반환\r\n",
        "    return [BINARY_SEARCH(list_n, m) for m in list_m]\r\n",
        "\r\n",
        "n = 5\r\n",
        "m = 6\r\n",
        "list_n = [10, 20, 30, 40, 50] # 검색 키 리스트\r\n",
        "list_m = [40, 10, 35, 15, 40, 20] # 검색 리스트\r\n",
        "\r\n",
        "list_answer = SEARCH_PLATFORM(list_n, list_m) \r\n",
        "for a in list_answer:\r\n",
        "    print(f\"{a}\", end = ' ') # 리스트 요소 한 줄로 출력"
      ],
      "execution_count": 22,
      "outputs": [
        {
          "output_type": "stream",
          "text": [
            "4 1 -1 -1 4 2 "
          ],
          "name": "stdout"
        }
      ]
    },
    {
      "cell_type": "code",
      "metadata": {
        "id": "K2miuoim9yQO"
      },
      "source": [
        "# 파일을 열고 데이터를 정제하기 위한 코드\r\n",
        "\r\n",
        "f = open('/content/drive/MyDrive/mod/rosalind_bins.txt', 'r')\r\n",
        "n = f.readline().replace(\"\\n\", '')\r\n",
        "m = f.readline().replace(\"\\n\", '')\r\n",
        "A = (f.readline().replace(\"\\n\", '')).split(\" \")\r\n",
        "B = f.readline().replace(\"\\n\", '')\r\n",
        "f.close()"
      ],
      "execution_count": 37,
      "outputs": []
    }
  ]
}