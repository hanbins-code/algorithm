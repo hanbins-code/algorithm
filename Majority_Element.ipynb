{
  "nbformat": 4,
  "nbformat_minor": 0,
  "metadata": {
    "colab": {
      "name": "Majority_Element.ipynb",
      "provenance": [],
      "collapsed_sections": []
    },
    "kernelspec": {
      "name": "python3",
      "display_name": "Python 3"
    }
  },
  "cells": [
    {
      "cell_type": "code",
      "metadata": {
        "id": "YsKfmxbYdWoo"
      },
      "source": [
        "from scipy.stats import mode\r\n",
        "\r\n",
        "def Clear_data_list(a):\r\n",
        "    return [list(map(int, (data.replace(\"\\n\", '')).split(\" \"))) for data in a]\r\n",
        "\r\n",
        "f = open('/content/drive/MyDrive/workspace/rosalind_maj (1).txt', 'r')\r\n",
        "get_list = f.readline().replace('\\n', \"\").split(' ')\r\n",
        "m = get_list[1] # 각 리스트의 요소 개수\r\n",
        "data_list = f.readlines()\r\n",
        "f.close()\r\n",
        "\r\n",
        "clear_list = Clear_data_list(data_list) # 정제한 데이터들을 DataFrame으로 변환\r\n",
        "\r\n",
        "answer_list = []\r\n",
        "for L in clear_list:\r\n",
        "    if int(mode(L).count) > int(int(m)/2): \r\n",
        "      answer_list.append(int(mode(L).mode))\r\n",
        "    else:\r\n",
        "        answer_list.append(-1)\r\n",
        "\r\n",
        "g = open('/content/drive/MyDrive/workspace/answer.txt', 'w')\r\n",
        "for i in answer_list:\r\n",
        "    g.write(str(i))\r\n",
        "    g.write(\" \")\r\n",
        "g.close()"
      ],
      "execution_count": 104,
      "outputs": []
    }
  ]
}